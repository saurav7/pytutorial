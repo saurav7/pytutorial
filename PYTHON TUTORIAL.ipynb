{
 "cells": [
  {
   "cell_type": "markdown",
   "metadata": {},
   "source": [
    "# PYTHON TUTORIAL"
   ]
  },
  {
   "cell_type": "markdown",
   "metadata": {},
   "source": [
    "## Hello World"
   ]
  },
  {
   "cell_type": "code",
   "execution_count": 1,
   "metadata": {},
   "outputs": [
    {
     "name": "stdout",
     "output_type": "stream",
     "text": [
      "Hello, World\n"
     ]
    }
   ],
   "source": [
    "print('Hello, World')"
   ]
  },
  {
   "cell_type": "markdown",
   "metadata": {},
   "source": [
    "## Variables\n",
    "A variable is a named location used to store data in memory."
   ]
  },
  {
   "cell_type": "code",
   "execution_count": 2,
   "metadata": {},
   "outputs": [],
   "source": [
    "a = 5"
   ]
  },
  {
   "cell_type": "code",
   "execution_count": 4,
   "metadata": {},
   "outputs": [
    {
     "name": "stdout",
     "output_type": "stream",
     "text": [
      "5\n"
     ]
    }
   ],
   "source": [
    "print(a)"
   ]
  },
  {
   "cell_type": "code",
   "execution_count": 5,
   "metadata": {},
   "outputs": [],
   "source": [
    "name = 'saurav'"
   ]
  },
  {
   "cell_type": "code",
   "execution_count": 6,
   "metadata": {
    "scrolled": true
   },
   "outputs": [
    {
     "name": "stdout",
     "output_type": "stream",
     "text": [
      "saurav\n"
     ]
    }
   ],
   "source": [
    "print(name)"
   ]
  },
  {
   "cell_type": "markdown",
   "metadata": {},
   "source": [
    "## Strings\n",
    "A string is a series of characters, surrounded by single or double quotes."
   ]
  },
  {
   "cell_type": "code",
   "execution_count": 12,
   "metadata": {},
   "outputs": [],
   "source": [
    "first_name = 'saurav'\n",
    "second_name = 'regmi'"
   ]
  },
  {
   "cell_type": "markdown",
   "metadata": {},
   "source": [
    "#### Concatenation (Combining Strings)"
   ]
  },
  {
   "cell_type": "code",
   "execution_count": 11,
   "metadata": {},
   "outputs": [
    {
     "name": "stdout",
     "output_type": "stream",
     "text": [
      "saurav regmi\n"
     ]
    }
   ],
   "source": [
    "first_name = 'saurav'\n",
    "second_name = 'regmi'\n",
    "full_name = first_name + ' ' + second_name\n",
    "print(full_name)"
   ]
  },
  {
   "cell_type": "markdown",
   "metadata": {},
   "source": [
    "## Operators\n",
    "Operators are special symbols that carry out operations on variables and values.\n",
    "\n",
    "Arithmetic operators = used to perform mathematical operations like addition, subtraction, multiplication etc.\n",
    "\n",
    "Assignment operators = used to assign value to variables. commonly used assignmnet operators are +=, -=, *=,\n",
    "%=, //=, and **=."
   ]
  },
  {
   "cell_type": "code",
   "execution_count": 7,
   "metadata": {},
   "outputs": [],
   "source": [
    "x = 10\n",
    "y = 2"
   ]
  },
  {
   "cell_type": "code",
   "execution_count": 14,
   "metadata": {},
   "outputs": [
    {
     "name": "stdout",
     "output_type": "stream",
     "text": [
      "12\n"
     ]
    }
   ],
   "source": [
    "print(f'{x+y}') #Add two operands"
   ]
  },
  {
   "cell_type": "code",
   "execution_count": 15,
   "metadata": {},
   "outputs": [
    {
     "name": "stdout",
     "output_type": "stream",
     "text": [
      "8\n"
     ]
    }
   ],
   "source": [
    "print(f'{ x-y }') #Subtract"
   ]
  },
  {
   "cell_type": "code",
   "execution_count": 17,
   "metadata": {},
   "outputs": [
    {
     "name": "stdout",
     "output_type": "stream",
     "text": [
      "20\n"
     ]
    }
   ],
   "source": [
    "print(f'{x*y}') #Multiply"
   ]
  },
  {
   "cell_type": "code",
   "execution_count": 19,
   "metadata": {},
   "outputs": [
    {
     "name": "stdout",
     "output_type": "stream",
     "text": [
      "5.0\n"
     ]
    }
   ],
   "source": [
    "print(f'{x/y}') #Divide"
   ]
  },
  {
   "cell_type": "code",
   "execution_count": 20,
   "metadata": {
    "scrolled": true
   },
   "outputs": [
    {
     "name": "stdout",
     "output_type": "stream",
     "text": [
      "0\n"
     ]
    }
   ],
   "source": [
    "print(f'{x%y}') #Remainder"
   ]
  },
  {
   "cell_type": "code",
   "execution_count": 22,
   "metadata": {
    "scrolled": false
   },
   "outputs": [
    {
     "name": "stdout",
     "output_type": "stream",
     "text": [
      "100\n"
     ]
    }
   ],
   "source": [
    "print(f'{x**y}')#power"
   ]
  },
  {
   "cell_type": "markdown",
   "metadata": {},
   "source": [
    "## Get Input from User\n",
    "In Python, you can use input() function to take input from user."
   ]
  },
  {
   "cell_type": "code",
   "execution_count": 23,
   "metadata": {},
   "outputs": [
    {
     "name": "stdout",
     "output_type": "stream",
     "text": [
      "Enter your name: saurav\n",
      "The userInput is: saurav\n"
     ]
    }
   ],
   "source": [
    "userInput = input('Enter your name: ')\n",
    "print(f'The userInput is: {userInput}')"
   ]
  },
  {
   "cell_type": "markdown",
   "metadata": {},
   "source": [
    "## Type Concersion\n",
    "The process of converting the value of one data type (integer, string, float, etc) to another is called conversion.Python has two types of conversion, implicit conversion and explicit conversion."
   ]
  },
  {
   "cell_type": "markdown",
   "metadata": {},
   "source": [
    "#### Implicit Type Conversion\n",
    "This process doesn't need any user involvement, Python automatically converts one data type to another data type."
   ]
  },
  {
   "cell_type": "code",
   "execution_count": 25,
   "metadata": {},
   "outputs": [],
   "source": [
    "num_i = 12\n",
    "num_f = 1.2"
   ]
  },
  {
   "cell_type": "code",
   "execution_count": 26,
   "metadata": {},
   "outputs": [
    {
     "name": "stdout",
     "output_type": "stream",
     "text": [
      "13.2\n",
      "datatype of num_new: <class 'float'>\n"
     ]
    }
   ],
   "source": [
    "num_new = num_i + num_f\n",
    "print(f'{num_new}')\n",
    "print(f'datatype of num_new: {type(num_new)}')"
   ]
  },
  {
   "cell_type": "markdown",
   "metadata": {},
   "source": [
    "Here, num_new has float data type because to avoid loss of data Python always converts smaller data type to larger data type."
   ]
  },
  {
   "cell_type": "code",
   "execution_count": 27,
   "metadata": {},
   "outputs": [
    {
     "ename": "TypeError",
     "evalue": "unsupported operand type(s) for +: 'int' and 'str'",
     "output_type": "error",
     "traceback": [
      "\u001b[0;31m---------------------------------------------------------------------------\u001b[0m",
      "\u001b[0;31mTypeError\u001b[0m                                 Traceback (most recent call last)",
      "\u001b[0;32m<ipython-input-27-4e83e10cd502>\u001b[0m in \u001b[0;36m<module>\u001b[0;34m\u001b[0m\n\u001b[1;32m      1\u001b[0m \u001b[0mnum_i\u001b[0m \u001b[0;34m=\u001b[0m \u001b[0;36m12\u001b[0m\u001b[0;34m\u001b[0m\u001b[0;34m\u001b[0m\u001b[0m\n\u001b[1;32m      2\u001b[0m \u001b[0mnum_s\u001b[0m \u001b[0;34m=\u001b[0m \u001b[0;34m'34'\u001b[0m\u001b[0;34m\u001b[0m\u001b[0;34m\u001b[0m\u001b[0m\n\u001b[0;32m----> 3\u001b[0;31m \u001b[0mprint\u001b[0m\u001b[0;34m(\u001b[0m\u001b[0mnum_i\u001b[0m \u001b[0;34m+\u001b[0m \u001b[0mnum_s\u001b[0m\u001b[0;34m)\u001b[0m\u001b[0;34m\u001b[0m\u001b[0;34m\u001b[0m\u001b[0m\n\u001b[0m",
      "\u001b[0;31mTypeError\u001b[0m: unsupported operand type(s) for +: 'int' and 'str'"
     ]
    }
   ],
   "source": [
    "num_i = 12\n",
    "num_s = '34'\n",
    "print(num_i + num_s)"
   ]
  },
  {
   "cell_type": "markdown",
   "metadata": {},
   "source": [
    "Here, implicit type conversion cannot take place because integer and string values cannot be added which results in type error. Python has solution for this type of situation known as explicit conversion."
   ]
  },
  {
   "cell_type": "markdown",
   "metadata": {},
   "source": [
    "#### Explicit Type Conversion\n",
    "In this type conversion, you convert the datatype of an object to required data type."
   ]
  },
  {
   "cell_type": "code",
   "execution_count": 28,
   "metadata": {},
   "outputs": [
    {
     "name": "stdout",
     "output_type": "stream",
     "text": [
      "46\n"
     ]
    }
   ],
   "source": [
    "num_i = 12\n",
    "num_s = '34'\n",
    "\n",
    "num_s = int(num_s)\n",
    "print(num_i + num_s)"
   ]
  },
  {
   "cell_type": "markdown",
   "metadata": {},
   "source": [
    "## Python Numeric Types\n",
    "Python supports integers, floating point numbers and complex numbers. They are defined as int, float , complex."
   ]
  },
  {
   "cell_type": "code",
   "execution_count": 29,
   "metadata": {},
   "outputs": [
    {
     "name": "stdout",
     "output_type": "stream",
     "text": [
      "<class 'int'>\n"
     ]
    }
   ],
   "source": [
    "print(type(5))"
   ]
  },
  {
   "cell_type": "code",
   "execution_count": 30,
   "metadata": {},
   "outputs": [
    {
     "name": "stdout",
     "output_type": "stream",
     "text": [
      "<class 'float'>\n"
     ]
    }
   ],
   "source": [
    "print(type(5.0))"
   ]
  },
  {
   "cell_type": "code",
   "execution_count": 31,
   "metadata": {},
   "outputs": [
    {
     "name": "stdout",
     "output_type": "stream",
     "text": [
      "<class 'complex'>\n"
     ]
    }
   ],
   "source": [
    "c = 2+3j\n",
    "print(type(c))"
   ]
  },
  {
   "cell_type": "markdown",
   "metadata": {},
   "source": [
    "## Python Data Structures\n"
   ]
  },
  {
   "cell_type": "markdown",
   "metadata": {},
   "source": [
    "#### List\n",
    "A list is created by placing all the items of any data types (integer, float, string etc.) inside a square bracket separated by commas. "
   ]
  },
  {
   "cell_type": "code",
   "execution_count": 32,
   "metadata": {},
   "outputs": [],
   "source": [
    "my_list = [] #empty list\n",
    "my_list = [1, 2, 3] #list of integer\n",
    "my_list = [1, 'saurav', 2.3] #mixed data types list"
   ]
  },
  {
   "cell_type": "markdown",
   "metadata": {},
   "source": [
    "way to access element of list:"
   ]
  },
  {
   "cell_type": "code",
   "execution_count": 33,
   "metadata": {},
   "outputs": [],
   "source": [
    "name = ['sisir', 'simrik', 'saurav']\n"
   ]
  },
  {
   "cell_type": "code",
   "execution_count": 34,
   "metadata": {},
   "outputs": [
    {
     "name": "stdout",
     "output_type": "stream",
     "text": [
      "sisir\n"
     ]
    }
   ],
   "source": [
    "print(name[0])# to access first element\n"
   ]
  },
  {
   "cell_type": "code",
   "execution_count": 35,
   "metadata": {
    "scrolled": true
   },
   "outputs": [
    {
     "name": "stdout",
     "output_type": "stream",
     "text": [
      "simrik\n"
     ]
    }
   ],
   "source": [
    "print(name[1]) # to access second element"
   ]
  },
  {
   "cell_type": "markdown",
   "metadata": {},
   "source": [
    "Adding items to a list:"
   ]
  },
  {
   "cell_type": "code",
   "execution_count": 15,
   "metadata": {},
   "outputs": [
    {
     "name": "stdout",
     "output_type": "stream",
     "text": [
      "['saurav', 'sisir', 'simrik']\n"
     ]
    }
   ],
   "source": [
    "names = []\n",
    "names.append('saurav')\n",
    "names.append('sisir')\n",
    "names.append('simrik')\n",
    "print(names)"
   ]
  },
  {
   "cell_type": "markdown",
   "metadata": {},
   "source": [
    "List comprehensions:\n"
   ]
  },
  {
   "cell_type": "code",
   "execution_count": 17,
   "metadata": {},
   "outputs": [
    {
     "name": "stdout",
     "output_type": "stream",
     "text": [
      "[1, 4, 9, 16]\n"
     ]
    }
   ],
   "source": [
    "squares = [x**2 for x in range(1,5)]\n",
    "print(squares)"
   ]
  },
  {
   "cell_type": "markdown",
   "metadata": {},
   "source": [
    "Slicing a list:"
   ]
  },
  {
   "cell_type": "code",
   "execution_count": 18,
   "metadata": {},
   "outputs": [
    {
     "name": "stdout",
     "output_type": "stream",
     "text": [
      "['simrik', 'sisir']\n"
     ]
    }
   ],
   "source": [
    "names = ['saurav', 'simrik', 'sisir']\n",
    "last_two = names[1:3]\n",
    "print(last_two)"
   ]
  },
  {
   "cell_type": "markdown",
   "metadata": {},
   "source": [
    "#### Tuples\n",
    "Tuple is similar to a list but you cannot change elements of a tuple once it is defined, which means list is mutable whereas tuple is immutable."
   ]
  },
  {
   "cell_type": "code",
   "execution_count": 39,
   "metadata": {},
   "outputs": [],
   "source": [
    "name1 = ('sisir', 'simrik', 'saurav')"
   ]
  },
  {
   "cell_type": "code",
   "execution_count": 40,
   "metadata": {},
   "outputs": [
    {
     "name": "stdout",
     "output_type": "stream",
     "text": [
      "simrik\n"
     ]
    }
   ],
   "source": [
    "print(name[1])"
   ]
  },
  {
   "cell_type": "code",
   "execution_count": 41,
   "metadata": {},
   "outputs": [
    {
     "name": "stdout",
     "output_type": "stream",
     "text": [
      "saurav\n"
     ]
    }
   ],
   "source": [
    "print(name[-1])"
   ]
  },
  {
   "cell_type": "markdown",
   "metadata": {},
   "source": [
    "You cannot delete elements of a tuple."
   ]
  },
  {
   "cell_type": "code",
   "execution_count": 43,
   "metadata": {},
   "outputs": [],
   "source": [
    "name2 = ('sisir', 'simrik', 'saurav')"
   ]
  },
  {
   "cell_type": "code",
   "execution_count": 44,
   "metadata": {},
   "outputs": [
    {
     "ename": "TypeError",
     "evalue": "'tuple' object doesn't support item deletion",
     "output_type": "error",
     "traceback": [
      "\u001b[0;31m---------------------------------------------------------------------------\u001b[0m",
      "\u001b[0;31mTypeError\u001b[0m                                 Traceback (most recent call last)",
      "\u001b[0;32m<ipython-input-44-c4ea0b42c3a5>\u001b[0m in \u001b[0;36m<module>\u001b[0;34m\u001b[0m\n\u001b[0;32m----> 1\u001b[0;31m \u001b[0;32mdel\u001b[0m \u001b[0;34m(\u001b[0m\u001b[0mname2\u001b[0m\u001b[0;34m[\u001b[0m\u001b[0;36m0\u001b[0m\u001b[0;34m]\u001b[0m\u001b[0;34m)\u001b[0m\u001b[0;34m\u001b[0m\u001b[0;34m\u001b[0m\u001b[0m\n\u001b[0m",
      "\u001b[0;31mTypeError\u001b[0m: 'tuple' object doesn't support item deletion"
     ]
    }
   ],
   "source": [
    "del (name2[0]) "
   ]
  },
  {
   "cell_type": "markdown",
   "metadata": {},
   "source": [
    "But you can delete entire tuple."
   ]
  },
  {
   "cell_type": "code",
   "execution_count": 45,
   "metadata": {},
   "outputs": [],
   "source": [
    "del name2"
   ]
  },
  {
   "cell_type": "code",
   "execution_count": 46,
   "metadata": {},
   "outputs": [
    {
     "ename": "NameError",
     "evalue": "name 'name2' is not defined",
     "output_type": "error",
     "traceback": [
      "\u001b[0;31m---------------------------------------------------------------------------\u001b[0m",
      "\u001b[0;31mNameError\u001b[0m                                 Traceback (most recent call last)",
      "\u001b[0;32m<ipython-input-46-6b369157f90e>\u001b[0m in \u001b[0;36m<module>\u001b[0;34m\u001b[0m\n\u001b[0;32m----> 1\u001b[0;31m \u001b[0mprint\u001b[0m\u001b[0;34m(\u001b[0m\u001b[0mname2\u001b[0m\u001b[0;34m)\u001b[0m\u001b[0;34m\u001b[0m\u001b[0;34m\u001b[0m\u001b[0m\n\u001b[0m",
      "\u001b[0;31mNameError\u001b[0m: name 'name2' is not defined"
     ]
    }
   ],
   "source": [
    "print(name2)"
   ]
  },
  {
   "cell_type": "markdown",
   "metadata": {},
   "source": [
    "#### Dictionary\n",
    "Dictionary is an unordered collection of items which have a key:value pair."
   ]
  },
  {
   "cell_type": "code",
   "execution_count": 47,
   "metadata": {},
   "outputs": [],
   "source": [
    "my_dict = {} #empty dictionary\n",
    "my_dict = {1:'coke', 2:'fanta'} # dictionary with integer keys\n",
    "my_dict = {'name': 'saurav', 2:[1,2,3]} # dictionary with mixed keys"
   ]
  },
  {
   "cell_type": "markdown",
   "metadata": {},
   "source": [
    "To access value from a dictionary, you use key."
   ]
  },
  {
   "cell_type": "code",
   "execution_count": 48,
   "metadata": {},
   "outputs": [
    {
     "name": "stdout",
     "output_type": "stream",
     "text": [
      "saurav\n"
     ]
    }
   ],
   "source": [
    "detail = {'name': 'saurav', 'age': 28, 'address':'gaindakot'}\n",
    "print(detail['name'])"
   ]
  },
  {
   "cell_type": "markdown",
   "metadata": {},
   "source": [
    "Way to change, add or delete dictionary element"
   ]
  },
  {
   "cell_type": "code",
   "execution_count": 49,
   "metadata": {},
   "outputs": [],
   "source": [
    "person = {'name': 'saurav', 'age': 28}"
   ]
  },
  {
   "cell_type": "code",
   "execution_count": 50,
   "metadata": {},
   "outputs": [
    {
     "name": "stdout",
     "output_type": "stream",
     "text": [
      "{'name': 'saurav', 'age': 20}\n"
     ]
    }
   ],
   "source": [
    "# Changing age to 20\n",
    "person['age'] = 20\n",
    "print(person)"
   ]
  },
  {
   "cell_type": "code",
   "execution_count": 51,
   "metadata": {},
   "outputs": [
    {
     "name": "stdout",
     "output_type": "stream",
     "text": [
      "{'name': 'saurav', 'age': 20, 'address': 'gaindakot'}\n"
     ]
    }
   ],
   "source": [
    "# adding address key, value pair\n",
    "person['address'] = 'gaindakot'\n",
    "print(person)"
   ]
  },
  {
   "cell_type": "code",
   "execution_count": 52,
   "metadata": {},
   "outputs": [
    {
     "name": "stdout",
     "output_type": "stream",
     "text": [
      "{'name': 'saurav', 'address': 'gaindakot'}\n"
     ]
    }
   ],
   "source": [
    "#deleting age\n",
    "del person['age']\n",
    "print(person)"
   ]
  },
  {
   "cell_type": "code",
   "execution_count": 61,
   "metadata": {},
   "outputs": [
    {
     "ename": "NameError",
     "evalue": "name 'person' is not defined",
     "output_type": "error",
     "traceback": [
      "\u001b[0;31m---------------------------------------------------------------------------\u001b[0m",
      "\u001b[0;31mNameError\u001b[0m                                 Traceback (most recent call last)",
      "\u001b[0;32m<ipython-input-61-4e6a7ca29ec4>\u001b[0m in \u001b[0;36m<module>\u001b[0;34m\u001b[0m\n\u001b[1;32m      1\u001b[0m \u001b[0;31m#deleting entire dictionary\u001b[0m\u001b[0;34m\u001b[0m\u001b[0;34m\u001b[0m\u001b[0;34m\u001b[0m\u001b[0m\n\u001b[0;32m----> 2\u001b[0;31m \u001b[0;32mdel\u001b[0m \u001b[0mperson\u001b[0m\u001b[0;34m\u001b[0m\u001b[0;34m\u001b[0m\u001b[0m\n\u001b[0m",
      "\u001b[0;31mNameError\u001b[0m: name 'person' is not defined"
     ]
    }
   ],
   "source": [
    "#deleting entire dictionary\n",
    "del person"
   ]
  },
  {
   "cell_type": "markdown",
   "metadata": {},
   "source": [
    "#### Sets \n",
    "A set is an unordered collection of items where every element is unique."
   ]
  },
  {
   "cell_type": "code",
   "execution_count": 62,
   "metadata": {},
   "outputs": [
    {
     "name": "stdout",
     "output_type": "stream",
     "text": [
      "{1, 2, 3}\n"
     ]
    }
   ],
   "source": [
    "set = {1,2,3} #set of integer\n",
    "print(set)"
   ]
  },
  {
   "cell_type": "code",
   "execution_count": 63,
   "metadata": {},
   "outputs": [
    {
     "name": "stdout",
     "output_type": "stream",
     "text": [
      "{2.0, 'saurav', (1, 2, 3)}\n"
     ]
    }
   ],
   "source": [
    "set = {2.0, 'saurav', (1,2,3)}\n",
    "print(set)"
   ]
  },
  {
   "cell_type": "code",
   "execution_count": 64,
   "metadata": {},
   "outputs": [
    {
     "name": "stdout",
     "output_type": "stream",
     "text": [
      "{2.0, 4, 'saurav', (1, 2, 3)}\n"
     ]
    }
   ],
   "source": [
    "set.add(4)\n",
    "print(set)"
   ]
  },
  {
   "cell_type": "code",
   "execution_count": 65,
   "metadata": {},
   "outputs": [
    {
     "name": "stdout",
     "output_type": "stream",
     "text": [
      "{2.0, 4, 'saurav', (1, 2, 3)}\n"
     ]
    }
   ],
   "source": [
    "set.add(2.0)\n",
    "print(set)"
   ]
  },
  {
   "cell_type": "code",
   "execution_count": 66,
   "metadata": {},
   "outputs": [
    {
     "name": "stdout",
     "output_type": "stream",
     "text": [
      "{1, 2.0, 4, 'saurav', (1, 2, 3)}\n"
     ]
    }
   ],
   "source": [
    "set.update([1,2,4])\n",
    "print(set)"
   ]
  },
  {
   "cell_type": "code",
   "execution_count": 67,
   "metadata": {},
   "outputs": [
    {
     "name": "stdout",
     "output_type": "stream",
     "text": [
      "{1, 4, 'saurav', (1, 2, 3)}\n"
     ]
    }
   ],
   "source": [
    "set.remove(2.0)\n",
    "print(set)"
   ]
  },
  {
   "cell_type": "markdown",
   "metadata": {},
   "source": [
    "## Python Control Flow"
   ]
  },
  {
   "cell_type": "markdown",
   "metadata": {},
   "source": [
    "#### if/else Statement\n",
    "It is used if you want to run different code on different condition."
   ]
  },
  {
   "cell_type": "code",
   "execution_count": 55,
   "metadata": {},
   "outputs": [
    {
     "name": "stdout",
     "output_type": "stream",
     "text": [
      "Negative number\n"
     ]
    }
   ],
   "source": [
    "a = -1\n",
    "if a > 0:\n",
    "    print('Positive number')\n",
    "elif a == 0:\n",
    "    print('Zero')\n",
    "else:\n",
    "    print('Negative number')"
   ]
  },
  {
   "cell_type": "markdown",
   "metadata": {},
   "source": [
    "#### while Loop\n",
    "It is used to iterate over a block of code as long as the test condition is true."
   ]
  },
  {
   "cell_type": "code",
   "execution_count": 56,
   "metadata": {},
   "outputs": [
    {
     "name": "stdout",
     "output_type": "stream",
     "text": [
      "1\n",
      "2\n",
      "3\n",
      "4\n"
     ]
    }
   ],
   "source": [
    "i = 1\n",
    "while i <5:\n",
    "    print(i)\n",
    "    i += 1"
   ]
  },
  {
   "cell_type": "markdown",
   "metadata": {},
   "source": [
    "#### for Loop\n",
    "It is used to iterate over a sequence (list, tuple, string) or other iterable objects."
   ]
  },
  {
   "cell_type": "code",
   "execution_count": 57,
   "metadata": {},
   "outputs": [
    {
     "name": "stdout",
     "output_type": "stream",
     "text": [
      "1\n",
      "2\n",
      "3\n",
      "4\n"
     ]
    }
   ],
   "source": [
    "for i in range(1,5):\n",
    "    print(i)"
   ]
  },
  {
   "cell_type": "markdown",
   "metadata": {},
   "source": [
    "#### break Statement\n",
    "The break statement terminates the loop containing it."
   ]
  },
  {
   "cell_type": "code",
   "execution_count": 58,
   "metadata": {},
   "outputs": [
    {
     "name": "stdout",
     "output_type": "stream",
     "text": [
      "s\n",
      "a\n",
      "The end\n"
     ]
    }
   ],
   "source": [
    "for value in 'saurav':\n",
    "    if value == 'u':\n",
    "        break\n",
    "    print(value)\n",
    "print('The end')"
   ]
  },
  {
   "cell_type": "markdown",
   "metadata": {},
   "source": [
    "#### continue Statement\n",
    "It is used to skip the rest of code inside a loop for the current iteration only, loop does not terminate but continues on with nect iteration."
   ]
  },
  {
   "cell_type": "code",
   "execution_count": 59,
   "metadata": {},
   "outputs": [
    {
     "name": "stdout",
     "output_type": "stream",
     "text": [
      "s\n",
      "a\n",
      "r\n",
      "a\n",
      "v\n",
      "The end\n"
     ]
    }
   ],
   "source": [
    "for value in 'saurav':\n",
    "    if value == 'u':\n",
    "        continue\n",
    "    print(value)\n",
    "print('The end')"
   ]
  },
  {
   "cell_type": "markdown",
   "metadata": {},
   "source": [
    "#### pass Statement\n",
    "If you have a loop or a function that is not implemented yet, but want to implement it in future. They cannot have an empty body. So, you use pass statement to construct a body that does nothing."
   ]
  },
  {
   "cell_type": "code",
   "execution_count": 1,
   "metadata": {},
   "outputs": [],
   "source": [
    "sequence = {'s','a', 'u', 'r', 'a', 'v'}\n",
    "for val in sequence:\n",
    "    pass"
   ]
  },
  {
   "cell_type": "markdown",
   "metadata": {},
   "source": [
    "#### for/else Loop\n",
    "In most of the programming languages, the use of else statement has been restricted with the if conditional statements. But Python allows us to use the else condition with for loop"
   ]
  },
  {
   "cell_type": "code",
   "execution_count": 2,
   "metadata": {},
   "outputs": [
    {
     "name": "stdout",
     "output_type": "stream",
     "text": [
      "10\n"
     ]
    }
   ],
   "source": [
    "nums = [10,16,18,21,26]\n",
    "\n",
    "for num in nums:\n",
    "\n",
    "    if num % 5 == 0:\n",
    "        print(num)\n",
    "        break\n",
    "else:\n",
    "    print(\"not found\")"
   ]
  },
  {
   "cell_type": "markdown",
   "metadata": {},
   "source": [
    "## Python Functions and Arguments"
   ]
  },
  {
   "cell_type": "markdown",
   "metadata": {},
   "source": [
    "### Python Functions\n",
    "We use functions to break up our code into small chunks which are easier to read, understand, maintain and we can also re-use these chunks. We use def keyword to create function in Python."
   ]
  },
  {
   "cell_type": "code",
   "execution_count": 68,
   "metadata": {
    "scrolled": true
   },
   "outputs": [
    {
     "name": "stdout",
     "output_type": "stream",
     "text": [
      "Hi, Good Morning\n"
     ]
    }
   ],
   "source": [
    "def greet():\n",
    "    print('Hi, Good Morning')\n",
    "    \n",
    "greet()"
   ]
  },
  {
   "cell_type": "code",
   "execution_count": 70,
   "metadata": {
    "scrolled": true
   },
   "outputs": [
    {
     "name": "stdout",
     "output_type": "stream",
     "text": [
      "Hi, saurav\n"
     ]
    }
   ],
   "source": [
    "def greet_user(name):\n",
    "    print(f'Hi, {name}')\n",
    "\n",
    "greet_user('saurav')"
   ]
  },
  {
   "cell_type": "markdown",
   "metadata": {},
   "source": [
    "### Python Functions Arguments\n",
    "In Python, we can define a function that takes variable number of arguments."
   ]
  },
  {
   "cell_type": "markdown",
   "metadata": {},
   "source": [
    "#### Default Arguments\n",
    "Function arguments can have default values in Python. "
   ]
  },
  {
   "cell_type": "code",
   "execution_count": 5,
   "metadata": {
    "scrolled": true
   },
   "outputs": [
    {
     "name": "stdout",
     "output_type": "stream",
     "text": [
      "Hello Saurav, Good Morning\n"
     ]
    }
   ],
   "source": [
    "def greet_user(name, msg='Good Morning'):\n",
    "    print(f'Hello {name}, {msg}')\n",
    "\n",
    "greet_user('Saurav')"
   ]
  },
  {
   "cell_type": "markdown",
   "metadata": {},
   "source": [
    "#### Keyword Arguments\n",
    "There are times when we don't know the order of the arguments that will be passed to our function when it's called. In such scenario we use keyword arguments because you can pass them in any order."
   ]
  },
  {
   "cell_type": "code",
   "execution_count": 6,
   "metadata": {},
   "outputs": [
    {
     "name": "stdout",
     "output_type": "stream",
     "text": [
      "Hello Saurav, Good Night\n"
     ]
    }
   ],
   "source": [
    "def greet_user(name, msg):\n",
    "    print(f'Hello {name}, {msg}')\n",
    "    \n",
    "greet_user(msg='Good Night', name='Saurav')"
   ]
  },
  {
   "cell_type": "markdown",
   "metadata": {},
   "source": [
    "#### Args\n",
    "To pass n number of arguments to a function we use args by adding * infront of the argument."
   ]
  },
  {
   "cell_type": "code",
   "execution_count": 3,
   "metadata": {},
   "outputs": [
    {
     "name": "stdout",
     "output_type": "stream",
     "text": [
      "46\n"
     ]
    }
   ],
   "source": [
    "def sum(a, *b):\n",
    "    \n",
    "    c = a\n",
    "    \n",
    "    for i in b:\n",
    "        c = c + i\n",
    "        \n",
    "    print(c)\n",
    "    \n",
    "sum(1,5,15,25)"
   ]
  },
  {
   "cell_type": "markdown",
   "metadata": {},
   "source": [
    "#### Kwargs\n",
    "There can be a situation where you don't know how many arguments will be passed into the function. In such scenario we can use kwargs by adding ** infront of the argument."
   ]
  },
  {
   "cell_type": "code",
   "execution_count": 8,
   "metadata": {},
   "outputs": [
    {
     "name": "stdout",
     "output_type": "stream",
     "text": [
      "{'name1': 'saurav', 'name2': 'simrik', 'name3': 'sisir'}\n"
     ]
    }
   ],
   "source": [
    "def person(**name):\n",
    "    print(name)\n",
    "    \n",
    "person(name1='saurav', name2='simrik', name3= 'sisir')"
   ]
  },
  {
   "cell_type": "markdown",
   "metadata": {},
   "source": [
    "## Scope\n",
    "A scope defines where a variable or function is available. There are two types of scope in Python: Global and Local.\n",
    "#### Global Scope: \n",
    "   A variable or function created in the main body of Python code is called a global variable or function.\n",
    "#### Local Scope:\n",
    "   A variable or function created inside a function is called a local variable or function and is part of the local scope."
   ]
  },
  {
   "cell_type": "code",
   "execution_count": 9,
   "metadata": {},
   "outputs": [
    {
     "name": "stdout",
     "output_type": "stream",
     "text": [
      "Local 15\n",
      "Global 10\n"
     ]
    }
   ],
   "source": [
    "a = 10\n",
    "\n",
    "def something():\n",
    "    a = 15\n",
    "    print(f'Local {a}')\n",
    "    \n",
    "something()\n",
    "\n",
    "print(f'Global {a}')"
   ]
  },
  {
   "cell_type": "markdown",
   "metadata": {},
   "source": [
    "### Return Statement\n",
    "We can also return value from a function using return statement.\n"
   ]
  },
  {
   "cell_type": "code",
   "execution_count": 71,
   "metadata": {},
   "outputs": [
    {
     "name": "stdout",
     "output_type": "stream",
     "text": [
      "9\n"
     ]
    }
   ],
   "source": [
    "def square(number):\n",
    "    return number * number\n",
    "\n",
    "result = square(3)\n",
    "print(result)"
   ]
  },
  {
   "cell_type": "markdown",
   "metadata": {},
   "source": [
    "## Recursive Function\n",
    "A function that calls itself is known as recursive function and this process is called recursion."
   ]
  },
  {
   "cell_type": "code",
   "execution_count": 72,
   "metadata": {},
   "outputs": [
    {
     "name": "stdout",
     "output_type": "stream",
     "text": [
      "120\n"
     ]
    }
   ],
   "source": [
    "def fact(n):\n",
    "    if n == 0:\n",
    "        return 1\n",
    "    return n * fact(n-1)\n",
    "\n",
    "result = fact(5)\n",
    "print(result)"
   ]
  },
  {
   "cell_type": "markdown",
   "metadata": {},
   "source": [
    "## Lambda Function\n",
    "We can define funtions without a name known as lambda function.We use lambda keyword to create lambda fucntion."
   ]
  },
  {
   "cell_type": "code",
   "execution_count": 73,
   "metadata": {},
   "outputs": [
    {
     "name": "stdout",
     "output_type": "stream",
     "text": [
      "4\n"
     ]
    }
   ],
   "source": [
    "f = lambda a: a * a\n",
    "result = f(2)\n",
    "print(result)"
   ]
  },
  {
   "cell_type": "markdown",
   "metadata": {},
   "source": [
    "## Filter, Map, Reduce"
   ]
  },
  {
   "cell_type": "markdown",
   "metadata": {},
   "source": [
    "#### Filter\n",
    "The filter( ) function forms a new list that contains only elements that satisfy a certain condition.\n",
    "#### Map\n",
    "The map( ) function iterates through all items in the given iterable and executes the function we passed as an argument on each of them.\n",
    "#### Reduce\n",
    "The reduce( ) function works differently than map( ) and filter( ). It doesnot return a new list based on the function and iterable we've passed. Instead, it returns a single value.\n"
   ]
  },
  {
   "cell_type": "code",
   "execution_count": 65,
   "metadata": {},
   "outputs": [
    {
     "name": "stdout",
     "output_type": "stream",
     "text": [
      "[2, 4, 12]\n",
      "[4, 8, 24]\n",
      "36\n"
     ]
    }
   ],
   "source": [
    "from functools import reduce\n",
    "\n",
    "def add(a,b):\n",
    "    return a+b\n",
    "\n",
    "nums = [1, 2, 4 , 5, 7, 9 , 12]\n",
    "evens = list(filter(lambda n : n%2==0, nums)) # filter\n",
    "double = list(map(lambda n : n*2, evens)) # map\n",
    "sum = reduce(lambda a,b: a+b, double) # reduce\n",
    "\n",
    "print(evens)\n",
    "print(double)\n",
    "print(sum)"
   ]
  },
  {
   "cell_type": "markdown",
   "metadata": {},
   "source": [
    "## Modules\n",
    "A module is a file with some Python code. We use modules to break up our program into multiple files."
   ]
  },
  {
   "cell_type": "code",
   "execution_count": 1,
   "metadata": {
    "scrolled": true
   },
   "outputs": [
    {
     "name": "stdout",
     "output_type": "stream",
     "text": [
      "importing Jupyter notebook from addition.ipynb\n"
     ]
    },
    {
     "data": {
      "text/plain": [
       "4.5"
      ]
     },
     "execution_count": 1,
     "metadata": {},
     "output_type": "execute_result"
    }
   ],
   "source": [
    "import import_ipynb\n",
    "import addition\n",
    "\n",
    "addition.add(2, 2.5)"
   ]
  },
  {
   "cell_type": "code",
   "execution_count": 2,
   "metadata": {
    "scrolled": true
   },
   "outputs": [
    {
     "name": "stdout",
     "output_type": "stream",
     "text": [
      "The value of pie is: 3.141592653589793\n"
     ]
    }
   ],
   "source": [
    "from math import pi\n",
    "print(f'The value of pie is: {pi}')"
   ]
  },
  {
   "cell_type": "markdown",
   "metadata": {},
   "source": [
    "## Python OOP\n",
    "Everything in Python is an object including integers, floats, functions, classes etc.\n",
    "\n",
    "### Class and Objects\n",
    "Classes defines blueprints for creating objects and an object is an instance of a class."
   ]
  },
  {
   "cell_type": "code",
   "execution_count": 6,
   "metadata": {},
   "outputs": [
    {
     "name": "stdout",
     "output_type": "stream",
     "text": [
      "Brunu is sitting.\n"
     ]
    }
   ],
   "source": [
    "class Dog():\n",
    "    '''Represent a dog.'''\n",
    "    \n",
    "    def sit(self):\n",
    "        print('Brunu is sitting.')\n",
    "        \n",
    "my_dog = Dog()\n",
    "my_dog.sit()"
   ]
  },
  {
   "cell_type": "markdown",
   "metadata": {},
   "source": [
    "### Methods\n",
    "Methods are functions defined inside the body of a class. They are used to define the behaviour of an object."
   ]
  },
  {
   "cell_type": "code",
   "execution_count": 10,
   "metadata": {},
   "outputs": [
    {
     "name": "stdout",
     "output_type": "stream",
     "text": [
      "Engine\n"
     ]
    }
   ],
   "source": [
    "class Car:\n",
    "    def engine(self):\n",
    "        print('Engine')\n",
    "Car().engine()"
   ]
  },
  {
   "cell_type": "markdown",
   "metadata": {},
   "source": [
    "### Python Constructors\n",
    "A method with name __init()__ is a constructor which is automatically called when an object is instantiated."
   ]
  },
  {
   "cell_type": "code",
   "execution_count": 7,
   "metadata": {},
   "outputs": [
    {
     "name": "stdout",
     "output_type": "stream",
     "text": [
      "Brunu is sitting.\n"
     ]
    }
   ],
   "source": [
    "class Dog():\n",
    "    '''Represent a dog.'''\n",
    "    \n",
    "    def __init__(self, name):\n",
    "        '''Initialize dog object.'''\n",
    "        self.name = name\n",
    "    \n",
    "    def sit(self):\n",
    "        print(self.name + ' is sitting.')\n",
    "        \n",
    "my_dog = Dog('Brunu')\n",
    "my_dog.sit()"
   ]
  },
  {
   "cell_type": "markdown",
   "metadata": {},
   "source": [
    "### Instance Attributes\n",
    "All classes have objects and all the objects have attributes. We use __init__( ) methid to specify an object's initial attribute."
   ]
  },
  {
   "cell_type": "code",
   "execution_count": 16,
   "metadata": {},
   "outputs": [],
   "source": [
    "class Dog():\n",
    "    def __init__(self, breed):\n",
    "        self.breed = breed #instance attribute"
   ]
  },
  {
   "cell_type": "markdown",
   "metadata": {},
   "source": [
    "### Class Attributes\n",
    "We saw that instance attributes are specific to each object but class attributes are the same for all the instance."
   ]
  },
  {
   "cell_type": "code",
   "execution_count": 17,
   "metadata": {},
   "outputs": [],
   "source": [
    "class Car():\n",
    "    no_of_legs = 4 #class attribute\n",
    "    \n",
    "    def __init__(self, breed):\n",
    "        self.breed = breed"
   ]
  },
  {
   "cell_type": "markdown",
   "metadata": {},
   "source": [
    "### Self\n",
    "By using the self keyword we can access the data initialized in the constructor and methods of a class."
   ]
  },
  {
   "cell_type": "code",
   "execution_count": 27,
   "metadata": {},
   "outputs": [
    {
     "name": "stdout",
     "output_type": "stream",
     "text": [
      "The brand is BMW\n"
     ]
    }
   ],
   "source": [
    "class Car():\n",
    "    def __init__(self,model):\n",
    "        self.model = model\n",
    "        \n",
    "    def brand(self):\n",
    "        print(f'The brand is {self.model}') #self.model is accessing the data initialized in the constructor\n",
    "        \n",
    "car = Car('BMW')\n",
    "car.brand()"
   ]
  },
  {
   "cell_type": "markdown",
   "metadata": {},
   "source": [
    "### Python Inheritance\n",
    "Inheritance is a technique to remove code duplication. We can create a base class to define the common methods and then have other classes inherit these methods."
   ]
  },
  {
   "cell_type": "code",
   "execution_count": 8,
   "metadata": {},
   "outputs": [
    {
     "name": "stdout",
     "output_type": "stream",
     "text": [
      "walk\n",
      "bark\n"
     ]
    }
   ],
   "source": [
    "class Mammal:\n",
    "    def walk(self):\n",
    "        print('walk')\n",
    "        \n",
    "class Dog(Mammal):\n",
    "    def bark(self):\n",
    "        print('bark')\n",
    "        \n",
    "dog = Dog()\n",
    "dog.walk()\n",
    "dog.bark()"
   ]
  },
  {
   "cell_type": "markdown",
   "metadata": {},
   "source": [
    "### Encapsulation\n",
    "Access to methods and variables can be restricted in order to prevent the data from being modified by accident and the process for doing this is known an encapsulation."
   ]
  },
  {
   "cell_type": "code",
   "execution_count": 29,
   "metadata": {},
   "outputs": [
    {
     "name": "stdout",
     "output_type": "stream",
     "text": [
      "Selling Price : 900\n",
      "Selling Price : 900\n",
      "Selling Price : 1000\n"
     ]
    }
   ],
   "source": [
    "class Computer:\n",
    "    def __init__(self):\n",
    "        self.__maxprice = 900\n",
    "        \n",
    "    def sell(self):\n",
    "        print(f'Selling Price : {self.__maxprice}')\n",
    "        \n",
    "    def setMaxPrice(self,price):\n",
    "        self.__maxprice = price\n",
    "        \n",
    "c = Computer()\n",
    "c.sell()\n",
    "\n",
    "# change the price\n",
    "c.__maxprice = 1000\n",
    "c.sell()\n",
    "\n",
    "#using setter function\n",
    "c.setMaxPrice(1000)\n",
    "c.sell()"
   ]
  },
  {
   "cell_type": "markdown",
   "metadata": {},
   "source": [
    "In above program, we tried to modify the price but we can't change it because Python treats the __maxprice as private attributes.To change the value, we have to use a setter function i.e setMaxPrice( )\n",
    "\n"
   ]
  },
  {
   "cell_type": "markdown",
   "metadata": {},
   "source": [
    "### Polymorphism\n",
    "The word ploymorphism means having many forms. In programming, polymorphism means same function name being used for different types."
   ]
  },
  {
   "cell_type": "code",
   "execution_count": 30,
   "metadata": {},
   "outputs": [
    {
     "name": "stdout",
     "output_type": "stream",
     "text": [
      "Parrot can fly\n",
      "Penguin can't fly\n"
     ]
    }
   ],
   "source": [
    "class Parrot:\n",
    "    def fly(self):\n",
    "        print('Parrot can fly')\n",
    "    def swim(self):\n",
    "        print(\"Parrot can't swim\")\n",
    "class Penguin:\n",
    "    def fly(self):\n",
    "        print(\"Penguin can't fly\")\n",
    "    def swim(self):\n",
    "        print(\"Penguin can swim\")\n",
    "\n",
    "# commom interface\n",
    "def flying_test(bird):\n",
    "    bird.fly()\n",
    "\n",
    "# instantiate objects\n",
    "blu = Parrot()\n",
    "peggy = Penguin()\n",
    "\n",
    "# passing objects\n",
    "flying_test(blu)\n",
    "flying_test(peggy)\n",
    "    "
   ]
  },
  {
   "cell_type": "markdown",
   "metadata": {},
   "source": [
    "### Operator Overloading\n",
    "Operator overloading in Python is the ability of a single operator to perform more than one operation based on the class (type) of the operands."
   ]
  },
  {
   "cell_type": "code",
   "execution_count": 38,
   "metadata": {},
   "outputs": [
    {
     "name": "stdout",
     "output_type": "stream",
     "text": [
      "(4,6)\n"
     ]
    }
   ],
   "source": [
    "class Point:\n",
    "    def __init__(self, x=0, y=0):\n",
    "        self.x = x\n",
    "        self.y = y\n",
    "    \n",
    "    def __str__(self):\n",
    "        return \"({},{})\".format(self.x, self.y)\n",
    "    \n",
    "    def __add__(self,other): #we are overloading + operator to add two objects by defining __add__ magic method\n",
    "        x = self.x + other.x\n",
    "        y = self.y + other.y\n",
    "        return Point(x,y)\n",
    "    \n",
    "p1 = Point(1,2)\n",
    "p2 = Point(3,4)\n",
    "\n",
    "print(p1+p2)"
   ]
  },
  {
   "cell_type": "markdown",
   "metadata": {},
   "source": [
    "### Method Overloading\n",
    "Method Overloading in Python is the class having methods that are the same name with different arguments."
   ]
  },
  {
   "cell_type": "code",
   "execution_count": 39,
   "metadata": {},
   "outputs": [
    {
     "name": "stdout",
     "output_type": "stream",
     "text": [
      "24\n"
     ]
    }
   ],
   "source": [
    "class OverloadDemo:\n",
    "    def sum(self,a,b): # first sum method, two parameters\n",
    "        s = a + b\n",
    "        print(s)\n",
    "    \n",
    "    def sum(self,a,b,c): # overload sum method, three parameters\n",
    "        s = a + b + c\n",
    "        print(s)\n",
    "        \n",
    "od = OverloadDemo()\n",
    "\n",
    "# if we call first product method, then we'll get an error\n",
    "\n",
    "od.sum(7,8,9) # this line will call the second product method\n"
   ]
  },
  {
   "cell_type": "markdown",
   "metadata": {},
   "source": [
    "### Method overriding\n",
    "Method Overloading in Python is the method having the same name with same arguments."
   ]
  },
  {
   "cell_type": "code",
   "execution_count": 41,
   "metadata": {},
   "outputs": [
    {
     "name": "stdout",
     "output_type": "stream",
     "text": [
      "in B show\n"
     ]
    }
   ],
   "source": [
    "class A:\n",
    "    def show(self):\n",
    "        print('in A show')\n",
    "\n",
    "class B(A):\n",
    "    def show(self): # overriding a method of parent class\n",
    "        print('in B show')\n",
    "                \n",
    "a1 = B()\n",
    "a1.show()"
   ]
  },
  {
   "cell_type": "markdown",
   "metadata": {},
   "source": [
    "### Abstract Classes and Abstract Methods\n",
    "An abstract class is a class that contains one or more abstract methods. An abstract method is a method that generally does't have any implementation, it is left to the sub class to provide implementation for the abstract methods and should be decorated with @abstractmethod decorator.\n"
   ]
  },
  {
   "cell_type": "code",
   "execution_count": 42,
   "metadata": {},
   "outputs": [
    {
     "name": "stdout",
     "output_type": "stream",
     "text": [
      "it's running\n",
      "it's running too\n"
     ]
    }
   ],
   "source": [
    "from abc import ABC, abstractmethod\n",
    "\n",
    "class Computer(ABC):\n",
    "    @abstractmethod\n",
    "    def process(self):\n",
    "        pass\n",
    "\n",
    "class Laptop1(Computer):\n",
    "    def process(self):\n",
    "        print(\"it's running\")\n",
    "\n",
    "class Laptop2(Computer):\n",
    "    def process(self):\n",
    "        print(\"it's running too\")\n",
    "\n",
    "l1 = Laptop1()\n",
    "l1.process()\n",
    "\n",
    "l2 = Laptop2()\n",
    "l2.process()\n"
   ]
  },
  {
   "cell_type": "markdown",
   "metadata": {},
   "source": [
    "## Python Iterators\n",
    "An iterator is a collection objects that holds multiple values and provide a mechanism to traverse through them. Technically, in Python, an iterator is an object which implements the iterator protocol, which consists of the method __iter__( ) and __next__( )."
   ]
  },
  {
   "cell_type": "code",
   "execution_count": 44,
   "metadata": {},
   "outputs": [
    {
     "name": "stdout",
     "output_type": "stream",
     "text": [
      "1\n",
      "2\n",
      "3\n",
      "4\n",
      "5\n",
      "6\n",
      "7\n",
      "8\n",
      "9\n",
      "10\n",
      "11\n",
      "12\n",
      "13\n",
      "14\n",
      "15\n",
      "16\n",
      "17\n",
      "18\n",
      "19\n",
      "20\n"
     ]
    }
   ],
   "source": [
    "class MyNumbers:\n",
    "    def __iter__(self):\n",
    "        self.a = 1\n",
    "        return self\n",
    "    \n",
    "    def __next__(self):\n",
    "        if self.a <= 20:\n",
    "            x = self.a\n",
    "            self.a += 1\n",
    "            return x\n",
    "        else: \n",
    "            raise StopIteration # to prevent the iteration to go on forever we use StopIteration\n",
    "            \n",
    "myclass = MyNumbers()\n",
    "myiter = iter(myclass)\n",
    "\n",
    "for x in myiter:\n",
    "    print(x)"
   ]
  },
  {
   "cell_type": "markdown",
   "metadata": {},
   "source": [
    "## Python Generators\n",
    "Python provides a generator to create your own iterator function. A generator is a special type of function which does not return a single value, instead it returns an iterator object with a sequence of values. In a generator function, a yield statement is used rather than a return statement."
   ]
  },
  {
   "cell_type": "code",
   "execution_count": 45,
   "metadata": {},
   "outputs": [
    {
     "name": "stdout",
     "output_type": "stream",
     "text": [
      "1\n",
      "4\n",
      "9\n",
      "16\n",
      "25\n",
      "36\n",
      "49\n",
      "64\n",
      "81\n",
      "100\n"
     ]
    }
   ],
   "source": [
    "def topten():\n",
    "    n = 1\n",
    "    \n",
    "    while n <= 10:\n",
    "        square = n * n\n",
    "        yield square\n",
    "        n += 1\n",
    "        \n",
    "vals = topten()\n",
    "\n",
    "for val in vals:\n",
    "    print(val)"
   ]
  },
  {
   "cell_type": "markdown",
   "metadata": {},
   "source": [
    "## Python Decorators\n",
    "Python has an interesting feature called decorators to add functionality to an existing code which is also called metaprogramming because a part of the program tries to modify another part os the program at compile time."
   ]
  },
  {
   "cell_type": "code",
   "execution_count": 49,
   "metadata": {},
   "outputs": [
    {
     "name": "stdout",
     "output_type": "stream",
     "text": [
      "Dividing 6 and 3\n",
      "2.0\n"
     ]
    }
   ],
   "source": [
    "def smart_divide(func):\n",
    "    \n",
    "    def inner(a,b):\n",
    "        \n",
    "        print('Dividing', a, 'and', b)\n",
    "        if b == 0:\n",
    "            print(\"Sorry can't divide\")\n",
    "        return func(a,b)\n",
    "    \n",
    "    return inner\n",
    "\n",
    "@smart_divide\n",
    "def divide(a,b):\n",
    "    print(a/b)\n",
    "\n",
    "divide(6,3)"
   ]
  },
  {
   "cell_type": "markdown",
   "metadata": {},
   "source": [
    "## File Handling\n",
    "File handling is an important part of any web application. Python has several functions for creating, reading, updating, and deleting files. The key functions used for file handling in Python are: open( ), close( ), read( ), write( ) and append( )."
   ]
  },
  {
   "cell_type": "code",
   "execution_count": 84,
   "metadata": {},
   "outputs": [
    {
     "name": "stdout",
     "output_type": "stream",
     "text": [
      "My name is Saurav Regmi. \n",
      "I am 28 years old. \n",
      "I live in Gaindakot.\n",
      "\n",
      "\n",
      "Is the file closed?: False\n",
      "\n",
      "\n",
      "Is the file closed?: True\n"
     ]
    }
   ],
   "source": [
    "# open a file \n",
    "\n",
    "file = open('example.txt', 'r')\n",
    "\n",
    "#Print it\n",
    "print (file.read())\n",
    "print('\\n')\n",
    "\n",
    "#check whether file is closed \n",
    "print(f'Is the file closed?: {file.closed}')\n",
    "\n",
    "#close file\n",
    "\n",
    "file.close()\n",
    "print('\\n')\n",
    "\n",
    "print(f'Is the file closed?: {file.closed}')\n"
   ]
  },
  {
   "cell_type": "code",
   "execution_count": 92,
   "metadata": {},
   "outputs": [
    {
     "name": "stdout",
     "output_type": "stream",
     "text": [
      "I love Nepal\n",
      "I love Nepal,,,,,HAHAHAHAHA\n"
     ]
    }
   ],
   "source": [
    "# create a new file to write\n",
    "file1 = open('example1.txt','w')\n",
    "\n",
    "# write something in that file\n",
    "file1.write('I love Nepal')\n",
    "\n",
    "# check if new file is created or not\n",
    "file1 = open('example1.txt','r')\n",
    "print(file1.read())\n",
    "\n",
    "#append something on that file\n",
    "file1 = open('example1.txt','a')\n",
    "file1.write(',,,,,HAHAHAHAHA')\n",
    "# check if something is added in that file\n",
    "file1 = open('example1.txt','r')\n",
    "print(file1.read())"
   ]
  },
  {
   "cell_type": "markdown",
   "metadata": {},
   "source": [
    "## Python Exception Handling\n",
    "Errors that occurs at runtime are called exceptions. It is our job to anticipate and handle these exceptions to prevent our programs from errors."
   ]
  },
  {
   "cell_type": "code",
   "execution_count": 46,
   "metadata": {},
   "outputs": [
    {
     "name": "stdout",
     "output_type": "stream",
     "text": [
      "Age: 0\n",
      "Age cannot be 0\n"
     ]
    }
   ],
   "source": [
    "try:\n",
    "    age = int(input('Age: '))\n",
    "    income = 20000\n",
    "    risk = income / age\n",
    "    print(age)\n",
    "except ValueError:\n",
    "    print('Not a valid number')\n",
    "except ZeroDivisionError:\n",
    "    print('Age cannot be 0')\n"
   ]
  }
 ],
 "metadata": {
  "kernelspec": {
   "display_name": "Python 3",
   "language": "python",
   "name": "python3"
  },
  "language_info": {
   "codemirror_mode": {
    "name": "ipython",
    "version": 3
   },
   "file_extension": ".py",
   "mimetype": "text/x-python",
   "name": "python",
   "nbconvert_exporter": "python",
   "pygments_lexer": "ipython3",
   "version": "3.7.7"
  }
 },
 "nbformat": 4,
 "nbformat_minor": 4
}
